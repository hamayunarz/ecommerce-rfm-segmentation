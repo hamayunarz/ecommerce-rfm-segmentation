{
 "cells": [
  {
   "cell_type": "code",
   "execution_count": 3,
   "metadata": {},
   "outputs": [],
   "source": [
    "import sys\n",
    "sys.path.append('../')\n",
    "\n",
    "import pandas as pd\n",
    "import numpy as np\n",
    "import json\n",
    "from sqlalchemy import text\n",
    "from src.db_connect import get_engine\n",
    "import matplotlib.pyplot as plt\n",
    "import seaborn as sns\n",
    "from datetime import datetime\n",
    "\n",
    "# Create engine\n",
    "engine = get_engine()"
   ]
  },
  {
   "cell_type": "code",
   "execution_count": 7,
   "metadata": {},
   "outputs": [],
   "source": [
    "df_customers = pd.read_sql(text('SELECT * FROM s_hamayunrahimzai.prep_customer_metrics;'), con=engine)\n",
    "df_customers_insights = pd.read_sql(text('SELECT * FROM s_hamayunrahimzai.mart_customer_insights;'), con=engine)"
   ]
  },
  {
   "cell_type": "code",
   "execution_count": 8,
   "metadata": {},
   "outputs": [
    {
     "data": {
      "text/html": [
       "<div>\n",
       "<style scoped>\n",
       "    .dataframe tbody tr th:only-of-type {\n",
       "        vertical-align: middle;\n",
       "    }\n",
       "\n",
       "    .dataframe tbody tr th {\n",
       "        vertical-align: top;\n",
       "    }\n",
       "\n",
       "    .dataframe thead th {\n",
       "        text-align: right;\n",
       "    }\n",
       "</style>\n",
       "<table border=\"1\" class=\"dataframe\">\n",
       "  <thead>\n",
       "    <tr style=\"text-align: right;\">\n",
       "      <th></th>\n",
       "      <th>customer_id</th>\n",
       "      <th>full_name</th>\n",
       "      <th>email</th>\n",
       "      <th>recency_days</th>\n",
       "      <th>frequency</th>\n",
       "      <th>monetary</th>\n",
       "      <th>recency_score</th>\n",
       "      <th>frequency_score</th>\n",
       "      <th>monetary_score</th>\n",
       "      <th>rfm_total</th>\n",
       "      <th>customer_segment</th>\n",
       "      <th>first_purchase_date</th>\n",
       "      <th>last_purchase_date</th>\n",
       "    </tr>\n",
       "  </thead>\n",
       "  <tbody>\n",
       "    <tr>\n",
       "      <th>0</th>\n",
       "      <td>100</td>\n",
       "      <td>Gilda Nurdiyanti</td>\n",
       "      <td>ed22ddc5_151b_4128_9590_de9b0bc8bfc6@startupca...</td>\n",
       "      <td>1088</td>\n",
       "      <td>2</td>\n",
       "      <td>227544.0</td>\n",
       "      <td>1</td>\n",
       "      <td>1</td>\n",
       "      <td>1</td>\n",
       "      <td>3</td>\n",
       "      <td>At Risk Customer</td>\n",
       "      <td>2016-08-15</td>\n",
       "      <td>2019-08-08</td>\n",
       "    </tr>\n",
       "    <tr>\n",
       "      <th>1</th>\n",
       "      <td>10000</td>\n",
       "      <td>Cakrabuana Ardianto</td>\n",
       "      <td>818ffe25_3914_4386_9449_d693a05264f1@zakyfound...</td>\n",
       "      <td>44</td>\n",
       "      <td>8</td>\n",
       "      <td>7178324.0</td>\n",
       "      <td>2</td>\n",
       "      <td>2</td>\n",
       "      <td>2</td>\n",
       "      <td>6</td>\n",
       "      <td>Loyal Customer</td>\n",
       "      <td>2021-07-22</td>\n",
       "      <td>2022-06-17</td>\n",
       "    </tr>\n",
       "    <tr>\n",
       "      <th>2</th>\n",
       "      <td>10001</td>\n",
       "      <td>Ella Suryatmi</td>\n",
       "      <td>8ae0c4fa_171a_466f_9863_64cbb22f956e@startupca...</td>\n",
       "      <td>81</td>\n",
       "      <td>11</td>\n",
       "      <td>10574864.0</td>\n",
       "      <td>2</td>\n",
       "      <td>2</td>\n",
       "      <td>2</td>\n",
       "      <td>6</td>\n",
       "      <td>Loyal Customer</td>\n",
       "      <td>2019-10-29</td>\n",
       "      <td>2022-05-11</td>\n",
       "    </tr>\n",
       "    <tr>\n",
       "      <th>3</th>\n",
       "      <td>10002</td>\n",
       "      <td>Labuh Santoso</td>\n",
       "      <td>2ca61485_e5f8_43f8_8000_df57c3d5da27@startupca...</td>\n",
       "      <td>220</td>\n",
       "      <td>3</td>\n",
       "      <td>918279.0</td>\n",
       "      <td>1</td>\n",
       "      <td>1</td>\n",
       "      <td>1</td>\n",
       "      <td>3</td>\n",
       "      <td>At Risk Customer</td>\n",
       "      <td>2020-10-05</td>\n",
       "      <td>2021-12-23</td>\n",
       "    </tr>\n",
       "    <tr>\n",
       "      <th>4</th>\n",
       "      <td>10003</td>\n",
       "      <td>Makara Sitompul</td>\n",
       "      <td>13fc2a1c_0582_4268_81f1_d8f6e4511904@startupca...</td>\n",
       "      <td>198</td>\n",
       "      <td>3</td>\n",
       "      <td>801299.0</td>\n",
       "      <td>1</td>\n",
       "      <td>1</td>\n",
       "      <td>1</td>\n",
       "      <td>3</td>\n",
       "      <td>At Risk Customer</td>\n",
       "      <td>2020-12-04</td>\n",
       "      <td>2022-01-14</td>\n",
       "    </tr>\n",
       "  </tbody>\n",
       "</table>\n",
       "</div>"
      ],
      "text/plain": [
       "  customer_id            full_name  \\\n",
       "0         100     Gilda Nurdiyanti   \n",
       "1       10000  Cakrabuana Ardianto   \n",
       "2       10001        Ella Suryatmi   \n",
       "3       10002        Labuh Santoso   \n",
       "4       10003      Makara Sitompul   \n",
       "\n",
       "                                               email  recency_days  frequency  \\\n",
       "0  ed22ddc5_151b_4128_9590_de9b0bc8bfc6@startupca...          1088          2   \n",
       "1  818ffe25_3914_4386_9449_d693a05264f1@zakyfound...            44          8   \n",
       "2  8ae0c4fa_171a_466f_9863_64cbb22f956e@startupca...            81         11   \n",
       "3  2ca61485_e5f8_43f8_8000_df57c3d5da27@startupca...           220          3   \n",
       "4  13fc2a1c_0582_4268_81f1_d8f6e4511904@startupca...           198          3   \n",
       "\n",
       "     monetary  recency_score  frequency_score  monetary_score  rfm_total  \\\n",
       "0    227544.0              1                1               1          3   \n",
       "1   7178324.0              2                2               2          6   \n",
       "2  10574864.0              2                2               2          6   \n",
       "3    918279.0              1                1               1          3   \n",
       "4    801299.0              1                1               1          3   \n",
       "\n",
       "   customer_segment first_purchase_date last_purchase_date  \n",
       "0  At Risk Customer          2016-08-15         2019-08-08  \n",
       "1    Loyal Customer          2021-07-22         2022-06-17  \n",
       "2    Loyal Customer          2019-10-29         2022-05-11  \n",
       "3  At Risk Customer          2020-10-05         2021-12-23  \n",
       "4  At Risk Customer          2020-12-04         2022-01-14  "
      ]
     },
     "execution_count": 8,
     "metadata": {},
     "output_type": "execute_result"
    }
   ],
   "source": [
    "# Select only the demographic columns we want to add from df_customers\n",
    "demographics_to_add = df_customers[['customer_id','first_purchase_date', 'last_purchase_date' ]].copy()\n",
    "\n",
    "# Merge the RFM insights with these selected customer demographics\n",
    "# We use a 'left' merge to keep all customers from the insights table\n",
    "merged_customer_data = pd.merge(\n",
    "    df_customers_insights,\n",
    "    demographics_to_add,\n",
    "    on='customer_id',\n",
    "    how='left'\n",
    ")\n",
    "merged_customer_data.head()"
   ]
  },
  {
   "cell_type": "code",
   "execution_count": 16,
   "metadata": {},
   "outputs": [],
   "source": [
    "# 1. Convert date column and define reference point\n",
    "merged_customer_data['last_purchase_date'] = pd.to_datetime(merged_customer_data['last_purchase_date'])\n",
    "today = pd.to_datetime(\"2022-07-31\")  # Reference date based on your data\n"
   ]
  },
  {
   "cell_type": "code",
   "execution_count": 17,
   "metadata": {},
   "outputs": [],
   "source": [
    "# 2. Calculate recency and churn flag\n",
    "merged_customer_data['recency_days'] = (today - merged_customer_data['last_purchase_date']).dt.days\n",
    "merged_customer_data['churn_flag'] = merged_customer_data['recency_days'].apply(lambda x: 1 if x > 90 else 0)\n"
   ]
  },
  {
   "cell_type": "code",
   "execution_count": 18,
   "metadata": {},
   "outputs": [],
   "source": [
    "# 3. Churn rate by customer segment\n",
    "churn_rate = merged_customer_data.groupby('customer_segment')['churn_flag'].mean().reset_index()\n",
    "churn_rate.columns = ['Customer Segment', 'Churn Rate']\n",
    "churn_rate['Churn Rate'] = churn_rate['Churn Rate'] * 100  # Convert to percentage\n"
   ]
  },
  {
   "cell_type": "code",
   "execution_count": 19,
   "metadata": {},
   "outputs": [
    {
     "data": {
      "image/png": "[encoded data removed]",
      "text/plain": [
       "<Figure size 1000x600 with 1 Axes>"
      ]
     },
     "metadata": {},
     "output_type": "display_data"
    }
   ],
   "source": [
    "# 4. Plot churn rate\n",
    "plt.figure(figsize=(10, 6))\n",
    "sns.barplot(\n",
    "    data=churn_rate,\n",
    "    x='Customer Segment',\n",
    "    y='Churn Rate',\n",
    "    hue='Customer Segment',\n",
    "    palette='Set3',\n",
    "    dodge=False,\n",
    "    legend=False\n",
    ")\n",
    "plt.title('Churn Rate (%) by Customer Segment')\n",
    "plt.xlabel('Customer Segment')\n",
    "plt.ylabel('Churn Rate (%)')\n",
    "plt.xticks(rotation=45)\n",
    "plt.tight_layout()\n",
    "plt.show()"
   ]
  },
  {
   "cell_type": "code",
   "execution_count": 24,
   "metadata": {},
   "outputs": [
    {
     "name": "stdout",
     "output_type": "stream",
     "text": [
      "                  Total Customers  Churned Customers Churn Rate (%)\n",
      "customer_segment                                                   \n",
      "At Risk Customer            17613              17613           100%\n",
      "Loyal Customer               8768               1950         22.24%\n",
      "Regular Customer            12025               7837         65.17%\n",
      "VIP Customer                11836                186          1.57%\n"
     ]
    }
   ],
   "source": [
    "# Count of total and churned customers per segment\n",
    "check_counts = merged_customer_data.groupby('customer_segment')['churn_flag'].agg(['count', 'sum'])\n",
    "check_counts.columns = ['Total Customers', 'Churned Customers']\n",
    "check_counts['Churn Rate (%)'] = (check_counts['Churned Customers'] / check_counts['Total Customers']) * 100\n",
    "check_counts['Churn Rate (%)'] = check_counts['Churn Rate (%)'].map(lambda x: f\"{x:.2f}\".rstrip('0').rstrip('.') + '%')\n",
    "\n",
    "print(check_counts)"
   ]
  },
  {
   "cell_type": "code",
   "execution_count": 21,
   "metadata": {},
   "outputs": [
    {
     "data": {
      "text/html": [
       "<div>\n",
       "<style scoped>\n",
       "    .dataframe tbody tr th:only-of-type {\n",
       "        vertical-align: middle;\n",
       "    }\n",
       "\n",
       "    .dataframe tbody tr th {\n",
       "        vertical-align: top;\n",
       "    }\n",
       "\n",
       "    .dataframe thead th {\n",
       "        text-align: right;\n",
       "    }\n",
       "</style>\n",
       "<table border=\"1\" class=\"dataframe\">\n",
       "  <thead>\n",
       "    <tr style=\"text-align: right;\">\n",
       "      <th></th>\n",
       "      <th>customer_segment</th>\n",
       "      <th>last_purchase_date</th>\n",
       "      <th>recency_days</th>\n",
       "      <th>churn_flag</th>\n",
       "    </tr>\n",
       "  </thead>\n",
       "  <tbody>\n",
       "    <tr>\n",
       "      <th>11045</th>\n",
       "      <td>At Risk Customer</td>\n",
       "      <td>2021-11-26</td>\n",
       "      <td>247</td>\n",
       "      <td>1</td>\n",
       "    </tr>\n",
       "    <tr>\n",
       "      <th>35288</th>\n",
       "      <td>At Risk Customer</td>\n",
       "      <td>2021-05-26</td>\n",
       "      <td>431</td>\n",
       "      <td>1</td>\n",
       "    </tr>\n",
       "    <tr>\n",
       "      <th>16955</th>\n",
       "      <td>Regular Customer</td>\n",
       "      <td>2022-06-13</td>\n",
       "      <td>48</td>\n",
       "      <td>0</td>\n",
       "    </tr>\n",
       "    <tr>\n",
       "      <th>7283</th>\n",
       "      <td>VIP Customer</td>\n",
       "      <td>2022-07-10</td>\n",
       "      <td>21</td>\n",
       "      <td>0</td>\n",
       "    </tr>\n",
       "    <tr>\n",
       "      <th>27915</th>\n",
       "      <td>At Risk Customer</td>\n",
       "      <td>2020-09-20</td>\n",
       "      <td>679</td>\n",
       "      <td>1</td>\n",
       "    </tr>\n",
       "    <tr>\n",
       "      <th>42673</th>\n",
       "      <td>Regular Customer</td>\n",
       "      <td>2022-01-03</td>\n",
       "      <td>209</td>\n",
       "      <td>1</td>\n",
       "    </tr>\n",
       "    <tr>\n",
       "      <th>35759</th>\n",
       "      <td>Loyal Customer</td>\n",
       "      <td>2022-07-31</td>\n",
       "      <td>0</td>\n",
       "      <td>0</td>\n",
       "    </tr>\n",
       "    <tr>\n",
       "      <th>30763</th>\n",
       "      <td>VIP Customer</td>\n",
       "      <td>2022-07-11</td>\n",
       "      <td>20</td>\n",
       "      <td>0</td>\n",
       "    </tr>\n",
       "    <tr>\n",
       "      <th>30611</th>\n",
       "      <td>Loyal Customer</td>\n",
       "      <td>2022-06-20</td>\n",
       "      <td>41</td>\n",
       "      <td>0</td>\n",
       "    </tr>\n",
       "    <tr>\n",
       "      <th>40976</th>\n",
       "      <td>VIP Customer</td>\n",
       "      <td>2022-07-30</td>\n",
       "      <td>1</td>\n",
       "      <td>0</td>\n",
       "    </tr>\n",
       "  </tbody>\n",
       "</table>\n",
       "</div>"
      ],
      "text/plain": [
       "       customer_segment last_purchase_date  recency_days  churn_flag\n",
       "11045  At Risk Customer         2021-11-26           247           1\n",
       "35288  At Risk Customer         2021-05-26           431           1\n",
       "16955  Regular Customer         2022-06-13            48           0\n",
       "7283       VIP Customer         2022-07-10            21           0\n",
       "27915  At Risk Customer         2020-09-20           679           1\n",
       "42673  Regular Customer         2022-01-03           209           1\n",
       "35759    Loyal Customer         2022-07-31             0           0\n",
       "30763      VIP Customer         2022-07-11            20           0\n",
       "30611    Loyal Customer         2022-06-20            41           0\n",
       "40976      VIP Customer         2022-07-30             1           0"
      ]
     },
     "execution_count": 21,
     "metadata": {},
     "output_type": "execute_result"
    }
   ],
   "source": [
    "merged_customer_data[['customer_segment', 'last_purchase_date', 'recency_days', 'churn_flag']].sample(10)\n"
   ]
  },
  {
   "cell_type": "code",
   "execution_count": 22,
   "metadata": {},
   "outputs": [
    {
     "name": "stdout",
     "output_type": "stream",
     "text": [
      "0\n"
     ]
    }
   ],
   "source": [
    "print(merged_customer_data['last_purchase_date'].isnull().sum())\n"
   ]
  },
  {
   "cell_type": "code",
   "execution_count": 26,
   "metadata": {},
   "outputs": [
    {
     "name": "stdout",
     "output_type": "stream",
     "text": [
      "   customer_segment  frequency      monetary  recency_days\n",
      "0  At Risk Customer   1.945324  1.010088e+06    671.521944\n",
      "1    Loyal Customer  13.418910  2.224654e+07     64.121921\n",
      "2  Regular Customer   5.458046  8.347612e+06    192.692973\n",
      "3      VIP Customer  50.558550  9.360693e+07     29.224738\n"
     ]
    }
   ],
   "source": [
    "summary = merged_customer_data.groupby('customer_segment').agg({\n",
    "    'frequency': 'mean',\n",
    "    'monetary': 'mean',\n",
    "    'recency_days': 'mean'\n",
    "}).reset_index()\n",
    "\n",
    "print(summary)"
   ]
  },
  {
   "cell_type": "code",
   "execution_count": null,
   "metadata": {},
   "outputs": [],
   "source": []
  }
 ],
 "metadata": {
  "kernelspec": {
   "display_name": "base",
   "language": "python",
   "name": "python3"
  },
  "language_info": {
   "codemirror_mode": {
    "name": "ipython",
    "version": 3
   },
   "file_extension": ".py",
   "mimetype": "text/x-python",
   "name": "python",
   "nbconvert_exporter": "python",
   "pygments_lexer": "ipython3",
   "version": "3.12.7"
  }
 },
 "nbformat": 4,
 "nbformat_minor": 2
}
