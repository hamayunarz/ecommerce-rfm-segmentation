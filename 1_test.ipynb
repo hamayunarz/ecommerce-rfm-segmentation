{
 "cells": [
  {
   "cell_type": "code",
   "execution_count": null,
   "metadata": {},
   "outputs": [
    {
     "data": {
      "text/plain": [
       "Index(['id', 'gender', 'masterCategory', 'subCategory', 'articleType',\n",
       "       'baseColour', 'season', 'year', 'usage', 'productDisplayName'],\n",
       "      dtype='object')"
      ]
     },
     "execution_count": 2,
     "metadata": {},
     "output_type": "execute_result"
    }
   ],
   "source": [
    "import pandas as pd # Or \n",
    "\n",
    "d = pd.read_csv('./data/raw/product.csv', on_bad_lines='skip') # Make sure NO spaces are before 'd'\n",
    "\n",
    "d.columns"
   ]
  },
  {
   "cell_type": "code",
   "execution_count": null,
   "metadata": {},
   "outputs": [],
   "source": [
    "import sys\n",
    "sys.path.append('../')\n",
    "\n",
    "\n",
    "# Import libraries\n",
    "import pandas as pd\n",
    "from sqlalchemy import text\n",
    "from src.db_connect import get_engine\n",
    "from dotenv import dotenv_values\n",
    "\n",
    "# Create engine\n",
    "engine = get_engine()\n",
    "\n",
    "# Read all data from a table (replace with your table name)\n",
    "query = text(\"SELECT * FROM airports;\")\n",
    "df = pd.read_sql(query, con=engine)\n",
    "\n",
    "# Show result\n",
    "df.head()"
   ]
  },
  {
   "cell_type": "code",
   "execution_count": null,
   "metadata": {},
   "outputs": [],
   "source": [
    "# 1_data_exploration.ipybn\n",
    "from src.db_connect import get_engine\n",
    "from dotenv import dotenv_values\n",
    "\n",
    "# Create engine\n",
    "engine = get_engine()\n",
    "\n",
    "# Read all data from a table (replace with your table name)\n",
    "query = text(\"SELECT * FROM customers_raw;\")\n",
    "df = pd.read_sql(query, con=engine)\n",
    "\n",
    "# Show result\n",
    "df.head()"
   ]
  }
 ],
 "metadata": {
  "kernelspec": {
   "display_name": "base",
   "language": "python",
   "name": "python3"
  },
  "language_info": {
   "codemirror_mode": {
    "name": "ipython",
    "version": 3
   },
   "file_extension": ".py",
   "mimetype": "text/x-python",
   "name": "python",
   "nbconvert_exporter": "python",
   "pygments_lexer": "ipython3",
   "version": "3.12.7"
  }
 },
 "nbformat": 4,
 "nbformat_minor": 2
}
